import matplotlib.pyplot as plt
import numpy as np

# Performance metrics
metrics = ['Throughput', 'Makespan', 'Imbalance Degree']
x = np.arange(len(metrics))

# Performance results (replace with your real values)
alpha_1 = [0.086545, 85446.6, 58.942892]    # alpha = 1
alpha_05 = [0.077713, 95157.6, 51.596]   # alpha = 0.5

width = 0.35

fig, ax = plt.subplots()
bar1 = ax.bar(x - width/2, alpha_1, width, label='alpha = 1')
bar2 = ax.bar(x + width/2, alpha_05, width, label='alpha = 0.5')

# Labels and title
ax.set_ylabel('Metric Value')
ax.set_title('Algorithm Performance with Varying Alpha')
ax.set_xticks(x)
ax.set_xticklabels(metrics)
ax.legend()

# Optionally add bar labels
def add_labels(bars):
    for bar in bars:
        height = bar.get_height()
        ax.annotate(f'{height:.2f}',
                    xy=(bar.get_x() + bar.get_width() / 2, height),
                    xytext=(0, 3),  # offset text
                    textcoords="offset points",
                    ha='center', va='bottom')

add_labels(bar1)
add_labels(bar2)

plt.tight_layout()
plt.show()
