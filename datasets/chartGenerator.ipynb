{
 "cells": [
  {
   "cell_type": "code",
   "execution_count": 27,
   "id": "6e9a4ff2",
   "metadata": {},
   "outputs": [
    {
     "name": "stdout",
     "output_type": "stream",
     "text": [
      "Requirement already satisfied: matplotlib in c:\\users\\advan\\documents\\tugas akhir\\tools\\cloudsim\\cloudsim-3.0.3\\.venv\\lib\\site-packages (3.10.1)\n",
      "Requirement already satisfied: numpy in c:\\users\\advan\\documents\\tugas akhir\\tools\\cloudsim\\cloudsim-3.0.3\\.venv\\lib\\site-packages (2.2.4)\n",
      "Requirement already satisfied: contourpy>=1.0.1 in c:\\users\\advan\\documents\\tugas akhir\\tools\\cloudsim\\cloudsim-3.0.3\\.venv\\lib\\site-packages (from matplotlib) (1.3.1)\n",
      "Requirement already satisfied: cycler>=0.10 in c:\\users\\advan\\documents\\tugas akhir\\tools\\cloudsim\\cloudsim-3.0.3\\.venv\\lib\\site-packages (from matplotlib) (0.12.1)\n",
      "Requirement already satisfied: fonttools>=4.22.0 in c:\\users\\advan\\documents\\tugas akhir\\tools\\cloudsim\\cloudsim-3.0.3\\.venv\\lib\\site-packages (from matplotlib) (4.57.0)\n",
      "Requirement already satisfied: kiwisolver>=1.3.1 in c:\\users\\advan\\documents\\tugas akhir\\tools\\cloudsim\\cloudsim-3.0.3\\.venv\\lib\\site-packages (from matplotlib) (1.4.8)\n",
      "Requirement already satisfied: packaging>=20.0 in c:\\users\\advan\\documents\\tugas akhir\\tools\\cloudsim\\cloudsim-3.0.3\\.venv\\lib\\site-packages (from matplotlib) (24.2)\n",
      "Requirement already satisfied: pillow>=8 in c:\\users\\advan\\documents\\tugas akhir\\tools\\cloudsim\\cloudsim-3.0.3\\.venv\\lib\\site-packages (from matplotlib) (11.1.0)\n",
      "Requirement already satisfied: pyparsing>=2.3.1 in c:\\users\\advan\\documents\\tugas akhir\\tools\\cloudsim\\cloudsim-3.0.3\\.venv\\lib\\site-packages (from matplotlib) (3.2.3)\n",
      "Requirement already satisfied: python-dateutil>=2.7 in c:\\users\\advan\\documents\\tugas akhir\\tools\\cloudsim\\cloudsim-3.0.3\\.venv\\lib\\site-packages (from matplotlib) (2.9.0.post0)\n",
      "Requirement already satisfied: six>=1.5 in c:\\users\\advan\\documents\\tugas akhir\\tools\\cloudsim\\cloudsim-3.0.3\\.venv\\lib\\site-packages (from python-dateutil>=2.7->matplotlib) (1.17.0)\n"
     ]
    }
   ],
   "source": [
    "!pip install matplotlib numpy"
   ]
  },
  {
   "cell_type": "code",
   "execution_count": 28,
   "id": "a9853130",
   "metadata": {},
   "outputs": [],
   "source": [
    "%matplotlib inline\n",
    "import matplotlib.pyplot as plt\n",
    "import numpy as np"
   ]
  },
  {
   "cell_type": "code",
   "execution_count": 29,
   "id": "0cae1fb0",
   "metadata": {},
   "outputs": [],
   "source": [
    "# Performance metrics\n",
    "metrics = ['Throughput', 'Makespan', 'Imbalance Degree']\n",
    "x = np.arange(len(metrics))"
   ]
  },
  {
   "cell_type": "code",
   "execution_count": 30,
   "id": "54b2f1aa",
   "metadata": {},
   "outputs": [],
   "source": [
    "# Performance results (replace with your real values)\n",
    "alpha_1 = [0.086545, 85446.6, 58.942892]    # alpha = 1\n",
    "alpha_05 = [0.077713, 95157.6, 51.596]   # alpha = 0.5"
   ]
  },
  {
   "cell_type": "code",
   "execution_count": 31,
   "id": "e20b2967",
   "metadata": {},
   "outputs": [
    {
     "data": {
      "image/png": "[encoded data removed]",
      "text/plain": [
       "<Figure size 800x500 with 1 Axes>"
      ]
     },
     "metadata": {},
     "output_type": "display_data"
    }
   ],
   "source": [
    "# Create figure and axis\n",
    "fig, ax1 = plt.subplots(figsize=(8, 5))"
   ]
  },
  {
   "cell_type": "code",
   "execution_count": 32,
   "id": "37023b45",
   "metadata": {},
   "outputs": [
    {
     "data": {
      "text/plain": [
       "[Text(0, 0, 'Throughput'),\n",
       " Text(1, 0, 'Makespan'),\n",
       " Text(2, 0, 'Imbalance Degree')]"
      ]
     },
     "execution_count": 32,
     "metadata": {},
     "output_type": "execute_result"
    }
   ],
   "source": [
    "# Plot Throughput and Imbalance Degree on left Y-axis\n",
    "ax1.plot([0, 2], [alpha_1[0], alpha_1[2]], 'o-', label='Alpha = 1 (Throughput & Imbalance)', color='tab:blue')\n",
    "ax1.plot([0, 2], [alpha_05[0], alpha_05[2]], 's--', label='Alpha = 0.5 (Throughput & Imbalance)', color='tab:cyan')\n",
    "ax1.set_ylabel('Throughput / Imbalance Degree', color='tab:blue')\n",
    "ax1.tick_params(axis='y', labelcolor='tab:blue')\n",
    "ax1.set_xticks([0, 1, 2])\n",
    "ax1.set_xticklabels(metrics)"
   ]
  },
  {
   "cell_type": "code",
   "execution_count": 33,
   "id": "1aa4be6c",
   "metadata": {},
   "outputs": [],
   "source": [
    "# Plot Makespan on right Y-axis\n",
    "ax2 = ax1.twinx()\n",
    "ax2.plot([1], [alpha_1[1]], 'o', color='tab:red', label='Alpha = 1 (Makespan)')\n",
    "ax2.plot([1], [alpha_05[1]], 's', color='tab:orange', label='Alpha = 0.5 (Makespan)')\n",
    "ax2.set_ylabel('Makespan', color='tab:red')\n",
    "ax2.tick_params(axis='y', labelcolor='tab:red')"
   ]
  },
  {
   "cell_type": "code",
   "execution_count": 34,
   "id": "f124a804",
   "metadata": {},
   "outputs": [
    {
     "data": {
      "image/png": "[encoded data removed]",
      "text/plain": [
       "<Figure size 640x480 with 1 Axes>"
      ]
     },
     "metadata": {},
     "output_type": "display_data"
    }
   ],
   "source": [
    "# Add legend\n",
    "fig.legend(loc='upper center', bbox_to_anchor=(0.5, 1.12), ncol=2)\n",
    "plt.title('Algorithm Performance Comparison (Alpha 1 vs 0.5)')\n",
    "plt.tight_layout()\n",
    "plt.show()"
   ]
  }
 ],
 "metadata": {
  "kernelspec": {
   "display_name": ".venv",
   "language": "python",
   "name": "python3"
  },
  "language_info": {
   "codemirror_mode": {
    "name": "ipython",
    "version": 3
   },
   "file_extension": ".py",
   "mimetype": "text/x-python",
   "name": "python",
   "nbconvert_exporter": "python",
   "pygments_lexer": "ipython3",
   "version": "3.13.2"
  }
 },
 "nbformat": 4,
 "nbformat_minor": 5
}
